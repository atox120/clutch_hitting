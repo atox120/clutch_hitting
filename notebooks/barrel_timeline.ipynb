{
 "cells": [
  {
   "cell_type": "markdown",
   "metadata": {},
   "source": [
    "## Clutch Hitting\n",
    "Import the data and Define some functions"
   ]
  },
  {
   "cell_type": "code",
   "execution_count": 1,
   "metadata": {},
   "outputs": [
    {
     "name": "stdout",
     "output_type": "stream",
     "text": [
      "Data imported successfully.\n",
      "Formatting and cleaning data...\n",
      "Done!\n"
     ]
    }
   ],
   "source": [
    "#Import libraries and s\n",
    "import pandas as pd\n",
    "import numpy as np\n",
    "import matplotlib.pyplot as plt\n",
    "\n",
    "# Column reference:\n",
    "# https://baseballsavant.mlb.com/csv-docs\n",
    "\n",
    "#Import Data\n",
    "#Read in the Statcast Data - note this is around 4GB of data!\n",
    "stat_15 = pd.read_csv('../data/external/statcast_15.zip', parse_dates=['game_date'])\n",
    "stat_16 = pd.read_csv('../data/external/statcast_16.zip', parse_dates=['game_date'])\n",
    "stat_17 = pd.read_csv('../data/external/statcast_17.zip', parse_dates=['game_date'])\n",
    "stat_18 = pd.read_csv('../data/external/statcast_18.zip', parse_dates=['game_date'])\n",
    "stat_19 = pd.read_csv('../data/external/statcast_19.zip', parse_dates=['game_date'])\n",
    "stat_20 = pd.read_csv('../data/external/statcast_20.zip', parse_dates=['game_date'])\n",
    "\n",
    "#Combine the data into a single dataframe\n",
    "stat_years_combined_list = [\n",
    "    stat_15, \n",
    "    stat_16, \n",
    "    stat_17, \n",
    "    stat_18, \n",
    "    stat_19,\n",
    "    stat_20\n",
    "]\n",
    "\n",
    "stat_years_combined_df = pd.concat(\n",
    "    stat_years_combined_list, \n",
    "    ignore_index=True\n",
    ")\n",
    "\n",
    "#Split out years\n",
    "stat_years_combined_df['year'] = stat_years_combined_df[\n",
    "    'game_date'\n",
    "].apply(lambda x: x.strftime('%Y'))\n",
    "\n",
    "#Subset for what I need\n",
    "stat_comb = stat_years_combined_df[\n",
    "    ['index', \n",
    "     'game_date',\n",
    "     'year',\n",
    "     'batter',\n",
    "     'pitcher',\n",
    "     'player_name',\n",
    "     'events',\n",
    "     'game_type',\n",
    "     'home_team',\n",
    "     'away_team',\n",
    "     'home_score',\n",
    "     'away_score',\n",
    "     'bat_score',\n",
    "     'fld_score',\n",
    "     'on_1b',\n",
    "     'on_2b',\n",
    "     'on_3b',\n",
    "     'post_home_score',\n",
    "     'post_away_score',\n",
    "     'inning',\n",
    "     'hit_distance_sc',\n",
    "     'launch_speed',\n",
    "     'launch_angle',\n",
    "     'launch_speed_angle',\n",
    "     'effective_speed',\n",
    "     'release_speed',\n",
    "     'release_spin_rate',\n",
    "     'estimated_ba_using_speedangle',\n",
    "     'estimated_woba_using_speedangle',\n",
    "     'pitch_name'\n",
    "    ]\n",
    "]\n",
    "\n",
    "#add_player names\n",
    "names = pd.read_csv('../data/external/name_master.csv', encoding = \"utf-8\")\n",
    "#names.columns\n",
    "\n",
    "print('Data imported successfully.\\nFormatting and cleaning data...')\n",
    "\n",
    "#Get we want regular season games:\n",
    "stat_comb = stat_comb[stat_comb.game_type == 'R']\n",
    "\n",
    "#Convert NaN to zero for the on-base colums=ns\n",
    "values = {'on_1b':0,'on_2b':0,'on_3b':0}\n",
    "stat_comb.fillna(value=values, inplace=True)\n",
    "\n",
    "#Replace the playerID with an integer for the 1,2 and 3b colums:\n",
    "stat_comb['on_1b'] = stat_comb['on_1b'].where(stat_comb['on_1b'] == 0, 1)\n",
    "stat_comb['on_2b'] = stat_comb['on_2b'].where(stat_comb['on_2b'] == 0, 1)\n",
    "stat_comb['on_3b'] = stat_comb['on_3b'].where(stat_comb['on_3b'] == 0, 1)\n",
    "\n",
    "#stat_comb[['on_1b','on_2b','on_3b']].head(20)\n",
    "print('Done!')"
   ]
  },
  {
   "cell_type": "markdown",
   "metadata": {},
   "source": [
    "Define workbook functions here"
   ]
  },
  {
   "cell_type": "code",
   "execution_count": 2,
   "metadata": {},
   "outputs": [],
   "source": [
    "#Functions\n",
    "from pybaseball import playerid_lookup\n",
    "\n",
    "def is_clutch(df):\n",
    "    '''A function which returns whether the event was in a clutch situation. \n",
    "    Takes a dataframe as input, returns boolean.\n",
    "    Uses the statcasat dataset and requires the columns:\n",
    "        'bat_score' -> int\n",
    "        'fld_score' -> int\n",
    "        'inning' -> int\n",
    "        'on_1b' -> 1 or 0\n",
    "        'on_2b' -> 1 or 0\n",
    "        'on_3b' -> 1 or 0\n",
    "    Note the is_clutch is defined as seen from the perspective of the batter. \n",
    "    '''\n",
    "    if df['inning'] >= 7: #are we in the 7th inning or later, or 6th if we are in 2020?\n",
    "        score_diff = df['bat_score'] - df['fld_score']\n",
    "        if ((score_diff == 1) | (score_diff == 0)): #Are they tying, or leading by one point?\n",
    "            return True\n",
    "        elif score_diff < 0: #Are they trailing?\n",
    "            #is the tying run 'on hand'?\n",
    "            base_status = df['on_1b'] + df['on_2b'] + df['on_3b']#possible runs from bases. \n",
    "            if base_status + 2 + score_diff >= 0: \n",
    "                return True\n",
    "            else:\n",
    "                return False\n",
    "        else:\n",
    "            return False\n",
    "    else:\n",
    "        return False"
   ]
  },
  {
   "cell_type": "markdown",
   "metadata": {},
   "source": [
    "## Analysis"
   ]
  },
  {
   "cell_type": "markdown",
   "metadata": {},
   "source": [
    "Let's create two datasets, one during the clutch situations and one not during the clutch situations. "
   ]
  },
  {
   "cell_type": "code",
   "execution_count": 3,
   "metadata": {},
   "outputs": [],
   "source": [
    "#Write an extra column to determine whether the row event \n",
    "#was a clutch event\n",
    "stat_comb['clutch'] = stat_comb.apply(is_clutch, axis=1)\n",
    "stat_comb['clutch'].value_counts()\n",
    "\n",
    "#Create the data frame with and without clutch events\n",
    "clutch_df = stat_comb[stat_comb['clutch'] == True]\n",
    "not_clutch_df = stat_comb[stat_comb['clutch'] == False]\n",
    "\n",
    "#Sanity checks if required:\n",
    "#clutch_df[['inning','year']].value_counts()\n",
    "#clutch_df.columns"
   ]
  },
  {
   "cell_type": "markdown",
   "metadata": {},
   "source": [
    "Launch Speed Angle"
   ]
  },
  {
   "cell_type": "code",
   "execution_count": 4,
   "metadata": {},
   "outputs": [],
   "source": [
    "## Data Cleaning and Checks\n",
    "#drop empty values:\n",
    "clutch_df = clutch_df.dropna(how='any', subset=['launch_speed_angle'])\n",
    "not_clutch_df = not_clutch_df.dropna(how='any', subset=['launch_speed_angle'])\n",
    "\n",
    "#sanity_check:\n",
    "#clutch_df.launch_speed_angle.agg(['unique','count'])\n",
    "#not_clutch_df.launch_speed_angle.agg(['unique','count'])\n",
    "\n",
    "#Group by batter\n",
    "clutch_by_batter = clutch_df.groupby(\"batter\")\n",
    "nclutch_by_batter = not_clutch_df.groupby(\"batter\")"
   ]
  },
  {
   "cell_type": "code",
   "execution_count": 136,
   "metadata": {},
   "outputs": [],
   "source": [
    "#Pick a player:\n",
    "#Garcia: 541645.0 - tends to perform better in the clutch\n",
    "#Seager: 608369.0 - tends to perform worse in the clutch.\n",
    "player_id = 541645.0\n",
    "c_player_df = clutch_df[(clutch_df[\"batter\"]==player_id) & (clutch_df[\"launch_speed_angle\"]==6)]\n",
    "c_player_df2 = clutch_df[(clutch_df[\"batter\"]==player_id) & (clutch_df[\"launch_speed_angle\"]!=6)]\n",
    "nc_player_df =  not_clutch_df[(not_clutch_df[\"batter\"]==player_id) & (not_clutch_df[\"launch_speed_angle\"]==6)]"
   ]
  },
  {
   "cell_type": "code",
   "execution_count": 139,
   "metadata": {},
   "outputs": [],
   "source": [
    "## Basically I need to make 3 ordered lists of the dates, whether it was a barrel or not, and the colour of the line I want to draw.\n",
    "from datetime import datetime\n",
    "#Get all the dates\n",
    "ts_c_data = c_player_df['game_date'].values #Barrels in clutch situations\n",
    "ts_c2_data = c_player_df2['game_date'].values #Nonbarrels in clutch situations\n",
    "ts_nc_data = nc_player_df['game_date'].values #Barrels in nonclutch situatios \n",
    "\n",
    "#Turn this all into one list and format dates correctly for matplotlib\n",
    "date_ar1 = np.concatenate((ts_nc_data, ts_c_data), axis=0)\n",
    "date_arr = np.concatenate((date_ar1, ts_c2_data), axis=0)\n",
    "dates = [date.astype(\"M8[ms]\").tolist() for date in date_arr]\n",
    "#Create levels for plot -1 for non-clutch barrel, 1 for clutch barrel\n",
    "\n",
    "#Just add different lengths for the lines that I want to plot, in the same order as above. \n",
    "ts_c_bar = np.full((len(ts_c_data)), 0.6)\n",
    "ts_c2_bar = np.full((len(ts_c2_data)), 0.5)\n",
    "ts_nc_bar = np.full((len(ts_nc_data)), -0.5)\n",
    "\n",
    "level = np.concatenate((ts_nc_bar, ts_c_bar), axis=0)\n",
    "levels = np.concatenate((level, ts_c2_bar), axis=0)\n",
    "\n",
    "#Now specify the colours and turn it into one list. \n",
    "ts_c = np.full((len(ts_c_data)), 'g')\n",
    "ts_c2 = np.full((len(ts_c2_data)), 'r')\n",
    "ts_nc = np.full((len(ts_nc_data)), 'g')\n",
    "\n",
    "clevel = np.concatenate((ts_nc, ts_c), axis=0)\n",
    "clevels = np.concatenate((clevel, ts_c2), axis=0)"
   ]
  },
  {
   "cell_type": "code",
   "execution_count": 140,
   "metadata": {},
   "outputs": [
    {
     "data": {
      "image/png": "[encoded data removed]",
      "text/plain": [
       "<Figure size 648x288 with 1 Axes>"
      ]
     },
     "metadata": {
      "needs_background": "light"
     },
     "output_type": "display_data"
    }
   ],
   "source": [
    "#plot that shit\n",
    "\n",
    "import matplotlib.dates as mdates\n",
    "\n",
    "fig, ax = plt.subplots(figsize=(9, 4), constrained_layout=True)\n",
    "ax.set(title=\"Timeline of Barrels in Clutch and Non-Clutch Batting events. \\\n",
    "\\nAbove the line are barrels during clutch events, below the line barrels are non-clutch events\")\n",
    "\n",
    "ax.vlines(dates, 0, levels, color=clevels, alpha=0.5)  # The vertical stems.\n",
    "ax.plot(dates, np.zeros_like(dates), \"-o\",\n",
    "        color=\"k\", markerfacecolor=\"w\")  # Baseline and markers on it.\n",
    "\n",
    "# format xaxis with 4 month intervals\n",
    "ax.xaxis.set_major_locator(mdates.MonthLocator(interval=4))\n",
    "ax.xaxis.set_major_formatter(mdates.DateFormatter(\"%b %Y\"))\n",
    "plt.setp(ax.get_xticklabels(), rotation=30, ha=\"right\")\n",
    "\n",
    "# remove y axis and spines\n",
    "ax.yaxis.set_visible(False)\n",
    "ax.spines['left'].set_visible(False)\n",
    "ax.spines['right'].set_visible(False)\n",
    "ax.spines['top'].set_visible(False)\n",
    "\n",
    "ax.margins(y=0.1)\n",
    "plt.show()"
   ]
  },
  {
   "cell_type": "code",
   "execution_count": null,
   "metadata": {},
   "outputs": [],
   "source": []
  }
 ],
 "metadata": {
  "kernelspec": {
   "display_name": "Python 3",
   "language": "python",
   "name": "python3"
  },
  "language_info": {
   "codemirror_mode": {
    "name": "ipython",
    "version": 3
   },
   "file_extension": ".py",
   "mimetype": "text/x-python",
   "name": "python",
   "nbconvert_exporter": "python",
   "pygments_lexer": "ipython3",
   "version": "3.7.4"
  }
 },
 "nbformat": 4,
 "nbformat_minor": 2
}
